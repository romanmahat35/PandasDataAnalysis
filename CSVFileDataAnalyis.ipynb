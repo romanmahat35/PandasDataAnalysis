{
 "cells": [
  {
   "cell_type": "code",
   "execution_count": 2,
   "metadata": {},
   "outputs": [
    {
     "name": "stdout",
     "output_type": "stream",
     "text": [
      "            Name            Team      Salary\n",
      "0  Avery Bradley  Boston Celtics   7730337.0\n",
      "1    Jae Crowder  Boston Celtics   6796117.0\n",
      "2   John Holland  Boston Celtics         NaN\n",
      "3    R.J. Hunter  Boston Celtics   1148640.0\n",
      "4  Jonas Jerebko  Boston Celtics   5000000.0\n",
      "5   Amir Johnson  Boston Celtics  12000000.0\n",
      "6  Jordan Mickey  Boston Celtics   1170960.0\n",
      "7   Kelly Olynyk  Boston Celtics   2165160.0\n",
      "8   Terry Rozier  Boston Celtics   1824360.0\n",
      "9   Marcus Smart  Boston Celtics   3431040.0\n",
      "            Name Position   Age Height  Weight\n",
      "0  Avery Bradley       PG  25.0    6-2   180.0\n",
      "1    Jae Crowder       SF  25.0    6-6   235.0\n",
      "2   John Holland       SG  27.0    6-5   205.0\n",
      "3    R.J. Hunter       SG  22.0    6-5   185.0\n",
      "4  Jonas Jerebko       PF  29.0   6-10   231.0\n",
      "5   Amir Johnson       PF  29.0    6-9   240.0\n",
      "6  Jordan Mickey       PF  21.0    6-8   235.0\n",
      "7   Kelly Olynyk        C  25.0    7-0   238.0\n",
      "8   Terry Rozier       PG  22.0    6-2   190.0\n",
      "9   Marcus Smart       PG  22.0    6-4   220.0\n"
     ]
    }
   ],
   "source": [
    "import pandas as pd\n",
    "#This read a data from CSV and prepare two data set \"dataset1\" and \"Dataset2\"\n",
    "df = pd.read_csv('C:\\Roman\\sampletxt.txt').head(10)\n",
    "#df2 = pd.read_csv('C:\\Roman\\sampletxt.txt').tail()\n",
    "dataset1 = df.loc[:,[\"Name\",\"Team\",\"Salary\"]]\n",
    "dataset2 = df.loc[:,[\"Name\",\"Position\",\"Age\",\"Height\",\"Weight\"]]\n",
    "print(dataset1)\n",
    "print(dataset2)\n",
    "\n"
   ]
  },
  {
   "cell_type": "code",
   "execution_count": 13,
   "metadata": {},
   "outputs": [
    {
     "name": "stdout",
     "output_type": "stream",
     "text": [
      "           Age  Weight\n",
      "Position              \n",
      "C         25.0   238.0\n",
      "PF        29.0   706.0\n",
      "PG        25.0   590.0\n",
      "SF        25.0   235.0\n",
      "SG        27.0   390.0\n"
     ]
    }
   ],
   "source": [
    "#This will group a data2 on the basis of postion and age and weight\n",
    "gk = dataset2.groupby(\"Position\")\n",
    "new_dataset = gk.agg({'Age':'max','Weight':'sum'})\n",
    "print(new_dataset)"
   ]
  },
  {
   "cell_type": "code",
   "execution_count": 4,
   "metadata": {},
   "outputs": [
    {
     "name": "stdout",
     "output_type": "stream",
     "text": [
      "            Name            Team      Salary Position   Age Height  Weight\n",
      "0  Avery Bradley  Boston Celtics   7730337.0       PG  25.0    6-2   180.0\n",
      "1    Jae Crowder  Boston Celtics   6796117.0       SF  25.0    6-6   235.0\n",
      "2   John Holland  Boston Celtics         0.0       SG  27.0    6-5   205.0\n",
      "3    R.J. Hunter  Boston Celtics   1148640.0       SG  22.0    6-5   185.0\n",
      "4  Jonas Jerebko  Boston Celtics   5000000.0       PF  29.0   6-10   231.0\n",
      "5   Amir Johnson  Boston Celtics  12000000.0       PF  29.0    6-9   240.0\n",
      "6  Jordan Mickey  Boston Celtics   1170960.0       PF  21.0    6-8   235.0\n",
      "7   Kelly Olynyk  Boston Celtics   2165160.0        C  25.0    7-0   238.0\n",
      "8   Terry Rozier  Boston Celtics   1824360.0       PG  22.0    6-2   190.0\n",
      "9   Marcus Smart  Boston Celtics   3431040.0       PG  22.0    6-4   220.0\n"
     ]
    }
   ],
   "source": [
    "#merge two data set into one and assigned this in mergeddataset variable\n",
    "mergedataset = pd.merge(dataset1,dataset2,how = 'inner',on='Name')\n",
    "mergedataset[\"Salary\"].fillna(0,inplace=True)\n",
    "print(mergedataset)"
   ]
  },
  {
   "cell_type": "code",
   "execution_count": 30,
   "metadata": {},
   "outputs": [
    {
     "data": {
      "text/plain": [
       "<Axes: xlabel='Position'>"
      ]
     },
     "execution_count": 30,
     "metadata": {},
     "output_type": "execute_result"
    },
    {
     "data": {
      "image/png": "[encoded data removed]",
      "text/plain": [
       "<Figure size 640x480 with 1 Axes>"
      ]
     },
     "metadata": {},
     "output_type": "display_data"
    }
   ],
   "source": [
    "import matplotlib as plt\n",
    "grpby = mergedataset.groupby([\"Position\"],as_index= False)[\"Salary\"].sum()\n",
    "postionwisesalary_bar = grpby.plot(x = \"Position\",y = \"Salary\",kind =\"bar\")\n",
    "postionwisesalary_bar\n"
   ]
  },
  {
   "cell_type": "code",
   "execution_count": 32,
   "metadata": {},
   "outputs": [
    {
     "data": {
      "text/html": [
       "<div>\n",
       "<style scoped>\n",
       "    .dataframe tbody tr th:only-of-type {\n",
       "        vertical-align: middle;\n",
       "    }\n",
       "\n",
       "    .dataframe tbody tr th {\n",
       "        vertical-align: top;\n",
       "    }\n",
       "\n",
       "    .dataframe thead th {\n",
       "        text-align: right;\n",
       "    }\n",
       "</style>\n",
       "<table border=\"1\" class=\"dataframe\">\n",
       "  <thead>\n",
       "    <tr style=\"text-align: right;\">\n",
       "      <th></th>\n",
       "      <th>Name</th>\n",
       "      <th>Team</th>\n",
       "      <th>Salary</th>\n",
       "      <th>Position</th>\n",
       "      <th>Age</th>\n",
       "      <th>Height</th>\n",
       "      <th>Weight</th>\n",
       "      <th>Age Group</th>\n",
       "    </tr>\n",
       "  </thead>\n",
       "  <tbody>\n",
       "    <tr>\n",
       "      <th>0</th>\n",
       "      <td>Avery Bradley</td>\n",
       "      <td>Boston Celtics</td>\n",
       "      <td>7730337.0</td>\n",
       "      <td>PG</td>\n",
       "      <td>25.0</td>\n",
       "      <td>6-2</td>\n",
       "      <td>180.0</td>\n",
       "      <td>Middle Age</td>\n",
       "    </tr>\n",
       "    <tr>\n",
       "      <th>1</th>\n",
       "      <td>Jae Crowder</td>\n",
       "      <td>Boston Celtics</td>\n",
       "      <td>6796117.0</td>\n",
       "      <td>SF</td>\n",
       "      <td>25.0</td>\n",
       "      <td>6-6</td>\n",
       "      <td>235.0</td>\n",
       "      <td>Middle Age</td>\n",
       "    </tr>\n",
       "    <tr>\n",
       "      <th>2</th>\n",
       "      <td>John Holland</td>\n",
       "      <td>Boston Celtics</td>\n",
       "      <td>0.0</td>\n",
       "      <td>SG</td>\n",
       "      <td>27.0</td>\n",
       "      <td>6-5</td>\n",
       "      <td>205.0</td>\n",
       "      <td>Old</td>\n",
       "    </tr>\n",
       "    <tr>\n",
       "      <th>3</th>\n",
       "      <td>R.J. Hunter</td>\n",
       "      <td>Boston Celtics</td>\n",
       "      <td>1148640.0</td>\n",
       "      <td>SG</td>\n",
       "      <td>22.0</td>\n",
       "      <td>6-5</td>\n",
       "      <td>185.0</td>\n",
       "      <td>Young</td>\n",
       "    </tr>\n",
       "    <tr>\n",
       "      <th>4</th>\n",
       "      <td>Jonas Jerebko</td>\n",
       "      <td>Boston Celtics</td>\n",
       "      <td>5000000.0</td>\n",
       "      <td>PF</td>\n",
       "      <td>29.0</td>\n",
       "      <td>6-10</td>\n",
       "      <td>231.0</td>\n",
       "      <td>Old</td>\n",
       "    </tr>\n",
       "    <tr>\n",
       "      <th>5</th>\n",
       "      <td>Amir Johnson</td>\n",
       "      <td>Boston Celtics</td>\n",
       "      <td>12000000.0</td>\n",
       "      <td>PF</td>\n",
       "      <td>29.0</td>\n",
       "      <td>6-9</td>\n",
       "      <td>240.0</td>\n",
       "      <td>Old</td>\n",
       "    </tr>\n",
       "    <tr>\n",
       "      <th>6</th>\n",
       "      <td>Jordan Mickey</td>\n",
       "      <td>Boston Celtics</td>\n",
       "      <td>1170960.0</td>\n",
       "      <td>PF</td>\n",
       "      <td>21.0</td>\n",
       "      <td>6-8</td>\n",
       "      <td>235.0</td>\n",
       "      <td>Young</td>\n",
       "    </tr>\n",
       "    <tr>\n",
       "      <th>7</th>\n",
       "      <td>Kelly Olynyk</td>\n",
       "      <td>Boston Celtics</td>\n",
       "      <td>2165160.0</td>\n",
       "      <td>C</td>\n",
       "      <td>25.0</td>\n",
       "      <td>7-0</td>\n",
       "      <td>238.0</td>\n",
       "      <td>Middle Age</td>\n",
       "    </tr>\n",
       "    <tr>\n",
       "      <th>8</th>\n",
       "      <td>Terry Rozier</td>\n",
       "      <td>Boston Celtics</td>\n",
       "      <td>1824360.0</td>\n",
       "      <td>PG</td>\n",
       "      <td>22.0</td>\n",
       "      <td>6-2</td>\n",
       "      <td>190.0</td>\n",
       "      <td>Young</td>\n",
       "    </tr>\n",
       "    <tr>\n",
       "      <th>9</th>\n",
       "      <td>Marcus Smart</td>\n",
       "      <td>Boston Celtics</td>\n",
       "      <td>3431040.0</td>\n",
       "      <td>PG</td>\n",
       "      <td>22.0</td>\n",
       "      <td>6-4</td>\n",
       "      <td>220.0</td>\n",
       "      <td>Young</td>\n",
       "    </tr>\n",
       "  </tbody>\n",
       "</table>\n",
       "</div>"
      ],
      "text/plain": [
       "            Name            Team      Salary Position   Age Height  Weight   \n",
       "0  Avery Bradley  Boston Celtics   7730337.0       PG  25.0    6-2   180.0  \\\n",
       "1    Jae Crowder  Boston Celtics   6796117.0       SF  25.0    6-6   235.0   \n",
       "2   John Holland  Boston Celtics         0.0       SG  27.0    6-5   205.0   \n",
       "3    R.J. Hunter  Boston Celtics   1148640.0       SG  22.0    6-5   185.0   \n",
       "4  Jonas Jerebko  Boston Celtics   5000000.0       PF  29.0   6-10   231.0   \n",
       "5   Amir Johnson  Boston Celtics  12000000.0       PF  29.0    6-9   240.0   \n",
       "6  Jordan Mickey  Boston Celtics   1170960.0       PF  21.0    6-8   235.0   \n",
       "7   Kelly Olynyk  Boston Celtics   2165160.0        C  25.0    7-0   238.0   \n",
       "8   Terry Rozier  Boston Celtics   1824360.0       PG  22.0    6-2   190.0   \n",
       "9   Marcus Smart  Boston Celtics   3431040.0       PG  22.0    6-4   220.0   \n",
       "\n",
       "    Age Group  \n",
       "0  Middle Age  \n",
       "1  Middle Age  \n",
       "2         Old  \n",
       "3       Young  \n",
       "4         Old  \n",
       "5         Old  \n",
       "6       Young  \n",
       "7  Middle Age  \n",
       "8       Young  \n",
       "9       Young  "
      ]
     },
     "execution_count": 32,
     "metadata": {},
     "output_type": "execute_result"
    }
   ],
   "source": [
    "\n",
    "mergedataset[\"Age Group\"] = pd.cut(mergedataset['Age'],bins= 3,labels=(\"Young\",\"Middle Age\",\"Old\"))\n",
    "mergedataset"
   ]
  },
  {
   "cell_type": "code",
   "execution_count": 41,
   "metadata": {},
   "outputs": [
    {
     "data": {
      "text/plain": [
       "Age Group\n",
       "Young          7575000.0\n",
       "Middle Age    16691614.0\n",
       "Old           17000000.0\n",
       "Name: Salary, dtype: float64"
      ]
     },
     "execution_count": 41,
     "metadata": {},
     "output_type": "execute_result"
    }
   ],
   "source": [
    "grpby = mergedataset.groupby([\"Age Group\"])[\"Salary\"].sum()\n",
    "grpby"
   ]
  },
  {
   "cell_type": "code",
   "execution_count": 42,
   "metadata": {},
   "outputs": [
    {
     "data": {
      "text/plain": [
       "<Axes: ylabel='Salary'>"
      ]
     },
     "execution_count": 42,
     "metadata": {},
     "output_type": "execute_result"
    },
    {
     "data": {
      "image/png": "[encoded data removed]",
      "text/plain": [
       "<Figure size 640x480 with 1 Axes>"
      ]
     },
     "metadata": {},
     "output_type": "display_data"
    }
   ],
   "source": [
    "grp_age = grpby.plot(x = \"Age Group\",y=\"Salary\",kind = \"pie\")\n",
    "grp_age"
   ]
  },
  {
   "cell_type": "code",
   "execution_count": null,
   "metadata": {},
   "outputs": [],
   "source": []
  }
 ],
 "metadata": {
  "kernelspec": {
   "display_name": "Python 3",
   "language": "python",
   "name": "python3"
  },
  "language_info": {
   "codemirror_mode": {
    "name": "ipython",
    "version": 3
   },
   "file_extension": ".py",
   "mimetype": "text/x-python",
   "name": "python",
   "nbconvert_exporter": "python",
   "pygments_lexer": "ipython3",
   "version": "3.11.3"
  },
  "orig_nbformat": 4
 },
 "nbformat": 4,
 "nbformat_minor": 2
}
