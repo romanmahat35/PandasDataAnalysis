{
 "cells": [
  {
   "cell_type": "code",
   "execution_count": 1,
   "metadata": {},
   "outputs": [
    {
     "name": "stdout",
     "output_type": "stream",
     "text": [
      "            Name            Team      Salary\n",
      "0  Avery Bradley  Boston Celtics   7730337.0\n",
      "1    Jae Crowder  Boston Celtics   6796117.0\n",
      "2   John Holland  Boston Celtics         NaN\n",
      "3    R.J. Hunter  Boston Celtics   1148640.0\n",
      "4  Jonas Jerebko  Boston Celtics   5000000.0\n",
      "5   Amir Johnson  Boston Celtics  12000000.0\n",
      "6  Jordan Mickey  Boston Celtics   1170960.0\n",
      "7   Kelly Olynyk  Boston Celtics   2165160.0\n",
      "8   Terry Rozier  Boston Celtics   1824360.0\n",
      "9   Marcus Smart  Boston Celtics   3431040.0\n",
      "            Name Position   Age Height  Weight\n",
      "0  Avery Bradley       PG  25.0    6-2   180.0\n",
      "1    Jae Crowder       SF  25.0    6-6   235.0\n",
      "2   John Holland       SG  27.0    6-5   205.0\n",
      "3    R.J. Hunter       SG  22.0    6-5   185.0\n",
      "4  Jonas Jerebko       PF  29.0   6-10   231.0\n",
      "5   Amir Johnson       PF  29.0    6-9   240.0\n",
      "6  Jordan Mickey       PF  21.0    6-8   235.0\n",
      "7   Kelly Olynyk        C  25.0    7-0   238.0\n",
      "8   Terry Rozier       PG  22.0    6-2   190.0\n",
      "9   Marcus Smart       PG  22.0    6-4   220.0\n"
     ]
    }
   ],
   "source": [
    "import pandas as pd\n",
    "#This read a data from CSV and prepare two data set \"dataset1\" and \"Dataset2\"\n",
    "df = pd.read_csv('C:\\Roman\\sampletxt.txt').head(10)\n",
    "df2 = pd.read_csv('C:\\Roman\\sampletxt.txt').tail()\n",
    "dataset1 = df.loc[:,[\"Name\",\"Team\",\"Salary\"]]\n",
    "dataset2 = df.loc[:,[\"Name\",\"Position\",\"Age\",\"Height\",\"Weight\"]]\n",
    "print(dataset1)\n",
    "print(dataset2)\n",
    "\n"
   ]
  },
  {
   "cell_type": "code",
   "execution_count": 64,
   "metadata": {},
   "outputs": [
    {
     "name": "stdout",
     "output_type": "stream",
     "text": [
      "           Age  Weight\n",
      "Position              \n",
      "C         25.0   238.0\n",
      "PF        79.0   706.0\n",
      "PG        69.0   590.0\n",
      "SF        25.0   235.0\n",
      "SG        49.0   390.0\n"
     ]
    }
   ],
   "source": [
    "#This will group a data2 on the basis of postion and age and weight\n",
    "gk = dataset2.groupby(\"Position\")\n",
    "new_dataset = gk.agg({'Age':'sum','Weight':'sum'})\n",
    "print(new_dataset)"
   ]
  },
  {
   "cell_type": "code",
   "execution_count": 2,
   "metadata": {},
   "outputs": [
    {
     "name": "stdout",
     "output_type": "stream",
     "text": [
      "            Name            Team      Salary Position   Age Height  Weight\n",
      "0  Avery Bradley  Boston Celtics   7730337.0       PG  25.0    6-2   180.0\n",
      "1    Jae Crowder  Boston Celtics   6796117.0       SF  25.0    6-6   235.0\n",
      "2   John Holland  Boston Celtics         NaN       SG  27.0    6-5   205.0\n",
      "3    R.J. Hunter  Boston Celtics   1148640.0       SG  22.0    6-5   185.0\n",
      "4  Jonas Jerebko  Boston Celtics   5000000.0       PF  29.0   6-10   231.0\n",
      "5   Amir Johnson  Boston Celtics  12000000.0       PF  29.0    6-9   240.0\n",
      "6  Jordan Mickey  Boston Celtics   1170960.0       PF  21.0    6-8   235.0\n",
      "7   Kelly Olynyk  Boston Celtics   2165160.0        C  25.0    7-0   238.0\n",
      "8   Terry Rozier  Boston Celtics   1824360.0       PG  22.0    6-2   190.0\n",
      "9   Marcus Smart  Boston Celtics   3431040.0       PG  22.0    6-4   220.0\n"
     ]
    }
   ],
   "source": [
    "mergedataset = pd.merge(dataset1,dataset2,how = 'inner',on='Name')\n",
    "print(mergedataset)"
   ]
  },
  {
   "cell_type": "code",
   "execution_count": null,
   "metadata": {},
   "outputs": [],
   "source": []
  }
 ],
 "metadata": {
  "kernelspec": {
   "display_name": "Python 3",
   "language": "python",
   "name": "python3"
  },
  "language_info": {
   "codemirror_mode": {
    "name": "ipython",
    "version": 3
   },
   "file_extension": ".py",
   "mimetype": "text/x-python",
   "name": "python",
   "nbconvert_exporter": "python",
   "pygments_lexer": "ipython3",
   "version": "3.11.3"
  },
  "orig_nbformat": 4
 },
 "nbformat": 4,
 "nbformat_minor": 2
}
