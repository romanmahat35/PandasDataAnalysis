{
 "cells": [
  {
   "cell_type": "markdown",
   "id": "45266465",
   "metadata": {
    "papermill": {
     "duration": 0.003613,
     "end_time": "2023-07-04T01:14:45.435795",
     "exception": false,
     "start_time": "2023-07-04T01:14:45.432182",
     "status": "completed"
    },
    "tags": []
   },
   "source": [
    "**This notebook is an exercise in the [Advanced SQL](https://www.kaggle.com/learn/advanced-sql) course.  You can reference the tutorial at [this link](https://www.kaggle.com/alexisbcook/analytic-functions).**\n",
    "\n",
    "---\n"
   ]
  },
  {
   "cell_type": "markdown",
   "id": "235e9fc9",
   "metadata": {
    "papermill": {
     "duration": 0.002577,
     "end_time": "2023-07-04T01:14:45.441343",
     "exception": false,
     "start_time": "2023-07-04T01:14:45.438766",
     "status": "completed"
    },
    "tags": []
   },
   "source": [
    "# Introduction\n",
    "\n",
    "Here, you'll use window functions to answer questions about the [Chicago Taxi Trips](https://www.kaggle.com/chicago/chicago-taxi-trips-bq) dataset.\n",
    "\n",
    "Before you get started, run the code cell below to set everything up."
   ]
  },
  {
   "cell_type": "code",
   "execution_count": 1,
   "id": "0487e432",
   "metadata": {
    "execution": {
     "iopub.execute_input": "2023-07-04T01:14:45.448609Z",
     "iopub.status.busy": "2023-07-04T01:14:45.448263Z",
     "iopub.status.idle": "2023-07-04T01:15:15.941520Z",
     "shell.execute_reply": "2023-07-04T01:15:15.940397Z"
    },
    "papermill": {
     "duration": 30.502326,
     "end_time": "2023-07-04T01:15:15.946405",
     "exception": false,
     "start_time": "2023-07-04T01:14:45.444079",
     "status": "completed"
    },
    "tags": []
   },
   "outputs": [
    {
     "name": "stdout",
     "output_type": "stream",
     "text": [
      "Collecting git+https://github.com/Kaggle/learntools.git\r\n",
      "  Cloning https://github.com/Kaggle/learntools.git to /tmp/pip-req-build-ed07x4y8\r\n",
      "  Running command git clone --filter=blob:none --quiet https://github.com/Kaggle/learntools.git /tmp/pip-req-build-ed07x4y8\r\n",
      "  Resolved https://github.com/Kaggle/learntools.git to commit 663c6150255e9d07a6a639139837a418208a5137\r\n",
      "  Preparing metadata (setup.py) ... \u001b[?25l-\b \b\\\b \bdone\r\n",
      "\u001b[?25hBuilding wheels for collected packages: learntools\r\n",
      "  Building wheel for learntools (setup.py) ... \u001b[?25l-\b \b\\\b \b|\b \bdone\r\n",
      "\u001b[?25h  Created wheel for learntools: filename=learntools-0.3.4-py3-none-any.whl size=268981 sha256=223684ce26c8a7c3597a9c1c71811bebb98df5a9703d162106bf4b36bc2d314c\r\n",
      "  Stored in directory: /tmp/pip-ephem-wheel-cache-14s2l6gd/wheels/2f/6c/3c/aa9f50cfb5a862157cb4c7a5b34881828cf45404698255dced\r\n",
      "Successfully built learntools\r\n",
      "Installing collected packages: learntools\r\n",
      "Successfully installed learntools-0.3.4\r\n",
      "\u001b[33mWARNING: Running pip as the 'root' user can result in broken permissions and conflicting behaviour with the system package manager. It is recommended to use a virtual environment instead: https://pip.pypa.io/warnings/venv\u001b[0m\u001b[33m\r\n",
      "\u001b[0mUsing Kaggle's public dataset BigQuery integration.\n",
      "Setup Complete\n"
     ]
    }
   ],
   "source": [
    "# Get most recent checking code\n",
    "!pip install -U -t /kaggle/working/ git+https://github.com/Kaggle/learntools.git\n",
    "# Set up feedback system\n",
    "from learntools.core import binder\n",
    "binder.bind(globals())\n",
    "from learntools.sql_advanced.ex2 import *\n",
    "print(\"Setup Complete\")"
   ]
  },
  {
   "cell_type": "markdown",
   "id": "ef01f95a",
   "metadata": {
    "papermill": {
     "duration": 0.003461,
     "end_time": "2023-07-04T01:15:15.953569",
     "exception": false,
     "start_time": "2023-07-04T01:15:15.950108",
     "status": "completed"
    },
    "tags": []
   },
   "source": [
    "The following code cell fetches the `taxi_trips` table from the `chicago_taxi_trips` dataset. We also preview the first five rows of the table.  You'll use the table to answer the questions below."
   ]
  },
  {
   "cell_type": "code",
   "execution_count": 2,
   "id": "bd009363",
   "metadata": {
    "execution": {
     "iopub.execute_input": "2023-07-04T01:15:15.962813Z",
     "iopub.status.busy": "2023-07-04T01:15:15.962493Z",
     "iopub.status.idle": "2023-07-04T01:15:16.820146Z",
     "shell.execute_reply": "2023-07-04T01:15:16.819032Z"
    },
    "papermill": {
     "duration": 0.864912,
     "end_time": "2023-07-04T01:15:16.822335",
     "exception": false,
     "start_time": "2023-07-04T01:15:15.957423",
     "status": "completed"
    },
    "tags": []
   },
   "outputs": [
    {
     "name": "stdout",
     "output_type": "stream",
     "text": [
      "Using Kaggle's public dataset BigQuery integration.\n"
     ]
    },
    {
     "data": {
      "text/html": [
       "<div>\n",
       "<style scoped>\n",
       "    .dataframe tbody tr th:only-of-type {\n",
       "        vertical-align: middle;\n",
       "    }\n",
       "\n",
       "    .dataframe tbody tr th {\n",
       "        vertical-align: top;\n",
       "    }\n",
       "\n",
       "    .dataframe thead th {\n",
       "        text-align: right;\n",
       "    }\n",
       "</style>\n",
       "<table border=\"1\" class=\"dataframe\">\n",
       "  <thead>\n",
       "    <tr style=\"text-align: right;\">\n",
       "      <th></th>\n",
       "      <th>unique_key</th>\n",
       "      <th>taxi_id</th>\n",
       "      <th>trip_start_timestamp</th>\n",
       "      <th>trip_end_timestamp</th>\n",
       "      <th>trip_seconds</th>\n",
       "      <th>trip_miles</th>\n",
       "      <th>pickup_census_tract</th>\n",
       "      <th>dropoff_census_tract</th>\n",
       "      <th>pickup_community_area</th>\n",
       "      <th>dropoff_community_area</th>\n",
       "      <th>...</th>\n",
       "      <th>extras</th>\n",
       "      <th>trip_total</th>\n",
       "      <th>payment_type</th>\n",
       "      <th>company</th>\n",
       "      <th>pickup_latitude</th>\n",
       "      <th>pickup_longitude</th>\n",
       "      <th>pickup_location</th>\n",
       "      <th>dropoff_latitude</th>\n",
       "      <th>dropoff_longitude</th>\n",
       "      <th>dropoff_location</th>\n",
       "    </tr>\n",
       "  </thead>\n",
       "  <tbody>\n",
       "    <tr>\n",
       "      <th>0</th>\n",
       "      <td>a116ecd87f2ad76f9d68785b28800e61dbd8618b</td>\n",
       "      <td>83cdef885e81832f503b6929e7fe568508653c46268f84...</td>\n",
       "      <td>2019-04-13 00:00:00+00:00</td>\n",
       "      <td>2019-04-13 00:00:00+00:00</td>\n",
       "      <td>480</td>\n",
       "      <td>1.4</td>\n",
       "      <td>NaN</td>\n",
       "      <td>NaN</td>\n",
       "      <td>NaN</td>\n",
       "      <td>NaN</td>\n",
       "      <td>...</td>\n",
       "      <td>0.0</td>\n",
       "      <td>7.50</td>\n",
       "      <td>Cash</td>\n",
       "      <td>Taxi Affiliation Services</td>\n",
       "      <td>NaN</td>\n",
       "      <td>NaN</td>\n",
       "      <td>None</td>\n",
       "      <td>NaN</td>\n",
       "      <td>NaN</td>\n",
       "      <td>None</td>\n",
       "    </tr>\n",
       "    <tr>\n",
       "      <th>1</th>\n",
       "      <td>7a0a1d74891209f6bb518f436bab4f2f0c1c89f3</td>\n",
       "      <td>805d7d7ca4bbf72ee21e530f8d16935d3d72e585ca8fa3...</td>\n",
       "      <td>2019-04-13 00:00:00+00:00</td>\n",
       "      <td>2019-04-13 00:15:00+00:00</td>\n",
       "      <td>840</td>\n",
       "      <td>3.0</td>\n",
       "      <td>NaN</td>\n",
       "      <td>NaN</td>\n",
       "      <td>NaN</td>\n",
       "      <td>NaN</td>\n",
       "      <td>...</td>\n",
       "      <td>0.0</td>\n",
       "      <td>13.50</td>\n",
       "      <td>Credit Card</td>\n",
       "      <td>Choice Taxi Association</td>\n",
       "      <td>NaN</td>\n",
       "      <td>NaN</td>\n",
       "      <td>None</td>\n",
       "      <td>NaN</td>\n",
       "      <td>NaN</td>\n",
       "      <td>None</td>\n",
       "    </tr>\n",
       "    <tr>\n",
       "      <th>2</th>\n",
       "      <td>98dee200dc70739fa746c271cf3294aa25caa516</td>\n",
       "      <td>0ec0b176586a8986d42e5c32220e1ecd8e529d02e32925...</td>\n",
       "      <td>2019-04-13 00:00:00+00:00</td>\n",
       "      <td>2019-04-13 00:00:00+00:00</td>\n",
       "      <td>480</td>\n",
       "      <td>0.0</td>\n",
       "      <td>NaN</td>\n",
       "      <td>NaN</td>\n",
       "      <td>NaN</td>\n",
       "      <td>NaN</td>\n",
       "      <td>...</td>\n",
       "      <td>0.0</td>\n",
       "      <td>8.76</td>\n",
       "      <td>Credit Card</td>\n",
       "      <td>Star North Management LLC</td>\n",
       "      <td>NaN</td>\n",
       "      <td>NaN</td>\n",
       "      <td>None</td>\n",
       "      <td>NaN</td>\n",
       "      <td>NaN</td>\n",
       "      <td>None</td>\n",
       "    </tr>\n",
       "    <tr>\n",
       "      <th>3</th>\n",
       "      <td>391ecb2d3c373fd2d48eb24103c5c83a963ee733</td>\n",
       "      <td>515dbaaba624daeb95c3dfefb93bfc1764b99ed2ff96b7...</td>\n",
       "      <td>2019-04-13 00:00:00+00:00</td>\n",
       "      <td>2019-04-13 00:00:00+00:00</td>\n",
       "      <td>360</td>\n",
       "      <td>0.0</td>\n",
       "      <td>NaN</td>\n",
       "      <td>NaN</td>\n",
       "      <td>NaN</td>\n",
       "      <td>NaN</td>\n",
       "      <td>...</td>\n",
       "      <td>1.0</td>\n",
       "      <td>10.25</td>\n",
       "      <td>Credit Card</td>\n",
       "      <td>Taxi Affiliation Services</td>\n",
       "      <td>NaN</td>\n",
       "      <td>NaN</td>\n",
       "      <td>None</td>\n",
       "      <td>NaN</td>\n",
       "      <td>NaN</td>\n",
       "      <td>None</td>\n",
       "    </tr>\n",
       "    <tr>\n",
       "      <th>4</th>\n",
       "      <td>84afc34511d3d73230c836d865d235cb25d9da7f</td>\n",
       "      <td>4e52e33e251a85225aa90043167cc14fe93e169568e682...</td>\n",
       "      <td>2019-04-13 00:00:00+00:00</td>\n",
       "      <td>2019-04-13 00:00:00+00:00</td>\n",
       "      <td>240</td>\n",
       "      <td>0.8</td>\n",
       "      <td>NaN</td>\n",
       "      <td>1.703108e+10</td>\n",
       "      <td>NaN</td>\n",
       "      <td>8.0</td>\n",
       "      <td>...</td>\n",
       "      <td>1.0</td>\n",
       "      <td>6.25</td>\n",
       "      <td>No Charge</td>\n",
       "      <td>Star North Management LLC</td>\n",
       "      <td>NaN</td>\n",
       "      <td>NaN</td>\n",
       "      <td>None</td>\n",
       "      <td>41.899156</td>\n",
       "      <td>-87.626211</td>\n",
       "      <td>POINT (-87.6262105324 41.8991556134)</td>\n",
       "    </tr>\n",
       "  </tbody>\n",
       "</table>\n",
       "<p>5 rows × 23 columns</p>\n",
       "</div>"
      ],
      "text/plain": [
       "                                 unique_key  \\\n",
       "0  a116ecd87f2ad76f9d68785b28800e61dbd8618b   \n",
       "1  7a0a1d74891209f6bb518f436bab4f2f0c1c89f3   \n",
       "2  98dee200dc70739fa746c271cf3294aa25caa516   \n",
       "3  391ecb2d3c373fd2d48eb24103c5c83a963ee733   \n",
       "4  84afc34511d3d73230c836d865d235cb25d9da7f   \n",
       "\n",
       "                                             taxi_id  \\\n",
       "0  83cdef885e81832f503b6929e7fe568508653c46268f84...   \n",
       "1  805d7d7ca4bbf72ee21e530f8d16935d3d72e585ca8fa3...   \n",
       "2  0ec0b176586a8986d42e5c32220e1ecd8e529d02e32925...   \n",
       "3  515dbaaba624daeb95c3dfefb93bfc1764b99ed2ff96b7...   \n",
       "4  4e52e33e251a85225aa90043167cc14fe93e169568e682...   \n",
       "\n",
       "       trip_start_timestamp        trip_end_timestamp  trip_seconds  \\\n",
       "0 2019-04-13 00:00:00+00:00 2019-04-13 00:00:00+00:00           480   \n",
       "1 2019-04-13 00:00:00+00:00 2019-04-13 00:15:00+00:00           840   \n",
       "2 2019-04-13 00:00:00+00:00 2019-04-13 00:00:00+00:00           480   \n",
       "3 2019-04-13 00:00:00+00:00 2019-04-13 00:00:00+00:00           360   \n",
       "4 2019-04-13 00:00:00+00:00 2019-04-13 00:00:00+00:00           240   \n",
       "\n",
       "   trip_miles  pickup_census_tract  dropoff_census_tract  \\\n",
       "0         1.4                  NaN                   NaN   \n",
       "1         3.0                  NaN                   NaN   \n",
       "2         0.0                  NaN                   NaN   \n",
       "3         0.0                  NaN                   NaN   \n",
       "4         0.8                  NaN          1.703108e+10   \n",
       "\n",
       "   pickup_community_area  dropoff_community_area  ...  extras  trip_total  \\\n",
       "0                    NaN                     NaN  ...     0.0        7.50   \n",
       "1                    NaN                     NaN  ...     0.0       13.50   \n",
       "2                    NaN                     NaN  ...     0.0        8.76   \n",
       "3                    NaN                     NaN  ...     1.0       10.25   \n",
       "4                    NaN                     8.0  ...     1.0        6.25   \n",
       "\n",
       "   payment_type                    company  pickup_latitude pickup_longitude  \\\n",
       "0          Cash  Taxi Affiliation Services              NaN              NaN   \n",
       "1   Credit Card    Choice Taxi Association              NaN              NaN   \n",
       "2   Credit Card  Star North Management LLC              NaN              NaN   \n",
       "3   Credit Card  Taxi Affiliation Services              NaN              NaN   \n",
       "4     No Charge  Star North Management LLC              NaN              NaN   \n",
       "\n",
       "  pickup_location  dropoff_latitude  dropoff_longitude  \\\n",
       "0            None               NaN                NaN   \n",
       "1            None               NaN                NaN   \n",
       "2            None               NaN                NaN   \n",
       "3            None               NaN                NaN   \n",
       "4            None         41.899156         -87.626211   \n",
       "\n",
       "                       dropoff_location  \n",
       "0                                  None  \n",
       "1                                  None  \n",
       "2                                  None  \n",
       "3                                  None  \n",
       "4  POINT (-87.6262105324 41.8991556134)  \n",
       "\n",
       "[5 rows x 23 columns]"
      ]
     },
     "execution_count": 2,
     "metadata": {},
     "output_type": "execute_result"
    }
   ],
   "source": [
    "from google.cloud import bigquery\n",
    "\n",
    "# Create a \"Client\" object\n",
    "client = bigquery.Client()\n",
    "\n",
    "# Construct a reference to the \"chicago_taxi_trips\" dataset\n",
    "dataset_ref = client.dataset(\"chicago_taxi_trips\", project=\"bigquery-public-data\")\n",
    "\n",
    "# API request - fetch the dataset\n",
    "dataset = client.get_dataset(dataset_ref)\n",
    "\n",
    "# Construct a reference to the \"taxi_trips\" table\n",
    "table_ref = dataset_ref.table(\"taxi_trips\")\n",
    "\n",
    "# API request - fetch the table\n",
    "table = client.get_table(table_ref)\n",
    "\n",
    "# Preview the first five lines of the table\n",
    "client.list_rows(table, max_results=5).to_dataframe()"
   ]
  },
  {
   "cell_type": "markdown",
   "id": "524ced96",
   "metadata": {
    "papermill": {
     "duration": 0.003789,
     "end_time": "2023-07-04T01:15:16.830423",
     "exception": false,
     "start_time": "2023-07-04T01:15:16.826634",
     "status": "completed"
    },
    "tags": []
   },
   "source": [
    "# Exercises\n",
    "\n",
    "### 1) How can you predict the demand for taxis?\n",
    "\n",
    "Say you work for a taxi company, and you're interested in predicting the demand for taxis.  Towards this goal, you'd like to create a plot that shows a rolling average of the daily number of taxi trips.  Amend the (partial) query below to return a DataFrame with two columns:\n",
    "- `trip_date` - contains one entry for each date from January 1, 2016, to March 31, 2016.\n",
    "- `avg_num_trips` - shows the average number of daily trips, calculated over a window including the value for the current date, along with the values for the preceding 3 days and the following 3 days, as long as the days fit within the three-month time frame.  For instance, when calculating the value in this column for January 3, 2016, the window will include the number of trips for the preceding 2 days, the current date, and the following 3 days.\n",
    "\n",
    "This query is partially completed for you, and you need only write the part that calculates the `avg_num_trips` column.  Note that this query uses a common table expression (CTE); if you need to review how to use CTEs, you're encouraged to check out [this tutorial](https://www.kaggle.com/dansbecker/as-with) in the [Intro to SQL](https://www.kaggle.com/learn/intro-to-sql) course."
   ]
  },
  {
   "cell_type": "code",
   "execution_count": 3,
   "id": "12ae91d7",
   "metadata": {
    "execution": {
     "iopub.execute_input": "2023-07-04T01:15:16.842516Z",
     "iopub.status.busy": "2023-07-04T01:15:16.841381Z",
     "iopub.status.idle": "2023-07-04T01:15:17.776752Z",
     "shell.execute_reply": "2023-07-04T01:15:17.776111Z"
    },
    "papermill": {
     "duration": 0.944585,
     "end_time": "2023-07-04T01:15:17.778998",
     "exception": false,
     "start_time": "2023-07-04T01:15:16.834413",
     "status": "completed"
    },
    "tags": []
   },
   "outputs": [
    {
     "data": {
      "text/html": [
       "<div>\n",
       "<style scoped>\n",
       "    .dataframe tbody tr th:only-of-type {\n",
       "        vertical-align: middle;\n",
       "    }\n",
       "\n",
       "    .dataframe tbody tr th {\n",
       "        vertical-align: top;\n",
       "    }\n",
       "\n",
       "    .dataframe thead th {\n",
       "        text-align: right;\n",
       "    }\n",
       "</style>\n",
       "<table border=\"1\" class=\"dataframe\">\n",
       "  <thead>\n",
       "    <tr style=\"text-align: right;\">\n",
       "      <th></th>\n",
       "      <th>trip_date</th>\n",
       "      <th>avg_num_trips</th>\n",
       "    </tr>\n",
       "  </thead>\n",
       "  <tbody>\n",
       "    <tr>\n",
       "      <th>0</th>\n",
       "      <td>2016-02-22</td>\n",
       "      <td>90943.428571</td>\n",
       "    </tr>\n",
       "    <tr>\n",
       "      <th>1</th>\n",
       "      <td>2016-01-27</td>\n",
       "      <td>81378.428571</td>\n",
       "    </tr>\n",
       "    <tr>\n",
       "      <th>2</th>\n",
       "      <td>2016-02-17</td>\n",
       "      <td>90092.857143</td>\n",
       "    </tr>\n",
       "    <tr>\n",
       "      <th>3</th>\n",
       "      <td>2016-02-29</td>\n",
       "      <td>92275.285714</td>\n",
       "    </tr>\n",
       "    <tr>\n",
       "      <th>4</th>\n",
       "      <td>2016-01-03</td>\n",
       "      <td>73287.833333</td>\n",
       "    </tr>\n",
       "  </tbody>\n",
       "</table>\n",
       "</div>"
      ],
      "text/plain": [
       "    trip_date  avg_num_trips\n",
       "0  2016-02-22   90943.428571\n",
       "1  2016-01-27   81378.428571\n",
       "2  2016-02-17   90092.857143\n",
       "3  2016-02-29   92275.285714\n",
       "4  2016-01-03   73287.833333"
      ]
     },
     "metadata": {},
     "output_type": "display_data"
    },
    {
     "data": {
      "application/javascript": [
       "parent.postMessage({\"jupyterEvent\": \"custom.exercise_interaction\", \"data\": {\"outcomeType\": 1, \"valueTowardsCompletion\": 0.3333333333333333, \"interactionType\": 1, \"questionType\": 2, \"questionId\": \"1_TaxiDemand\", \"learnToolsVersion\": \"0.3.4\", \"failureMessage\": \"\", \"exceptionClass\": \"\", \"trace\": \"\"}}, \"*\")"
      ],
      "text/plain": [
       "<IPython.core.display.Javascript object>"
      ]
     },
     "metadata": {},
     "output_type": "display_data"
    },
    {
     "data": {
      "text/markdown": [
       "<span style=\"color:#33cc33\">Correct</span>"
      ],
      "text/plain": [
       "Correct"
      ]
     },
     "metadata": {},
     "output_type": "display_data"
    }
   ],
   "source": [
    "# Fill in the blank below\n",
    "avg_num_trips_query = \"\"\"\n",
    "                      WITH trips_by_day AS\n",
    "                      (\n",
    "                      SELECT DATE(trip_start_timestamp) AS trip_date,\n",
    "                          COUNT(*) as num_trips\n",
    "                      FROM `bigquery-public-data.chicago_taxi_trips.taxi_trips`\n",
    "                      WHERE trip_start_timestamp > '2016-01-01' AND trip_start_timestamp < '2016-04-01'\n",
    "                      GROUP BY trip_date\n",
    "                      ORDER BY trip_date\n",
    "                      )\n",
    "                      SELECT trip_date,\n",
    "                          AVG(num_trips)\n",
    "                          OVER (\n",
    "                               ORDER BY Trip_date\n",
    "                               ROWS BETWEEN 3 PRECEDING AND 3 FOLLOWING\n",
    "                               ) AS avg_num_trips\n",
    "                      FROM trips_by_day\n",
    "                      \"\"\"\n",
    "\n",
    "# Check your answer\n",
    "q_1.check()"
   ]
  },
  {
   "cell_type": "markdown",
   "id": "d985f814",
   "metadata": {
    "papermill": {
     "duration": 0.004384,
     "end_time": "2023-07-04T01:15:17.788759",
     "exception": false,
     "start_time": "2023-07-04T01:15:17.784375",
     "status": "completed"
    },
    "tags": []
   },
   "source": [
    "### 2) Can you separate and order trips by community area?\n",
    "\n",
    "The query below returns a DataFrame with three columns from the table: `pickup_community_area`, `trip_start_timestamp`, and `trip_end_timestamp`.  \n",
    "\n",
    "Amend the query to return an additional column called `trip_number` which shows the order in which the trips were taken from their respective community areas.  So, the first trip of the day originating from community area 1 should receive a value of 1; the second trip of the day from the same area should receive a value of 2.  Likewise, the first trip of the day from community area 2 should receive a value of 1, and so on.\n",
    "\n",
    "Note that there are many numbering functions that can be used to solve this problem (depending on how you want to deal with trips that started at the same time from the same community area); to answer this question, please use the **RANK()** function."
   ]
  },
  {
   "cell_type": "code",
   "execution_count": 4,
   "id": "0306536e",
   "metadata": {
    "execution": {
     "iopub.execute_input": "2023-07-04T01:15:17.800280Z",
     "iopub.status.busy": "2023-07-04T01:15:17.799350Z",
     "iopub.status.idle": "2023-07-04T01:15:21.570841Z",
     "shell.execute_reply": "2023-07-04T01:15:21.569558Z"
    },
    "papermill": {
     "duration": 3.780042,
     "end_time": "2023-07-04T01:15:21.573377",
     "exception": false,
     "start_time": "2023-07-04T01:15:17.793335",
     "status": "completed"
    },
    "tags": []
   },
   "outputs": [
    {
     "data": {
      "text/html": [
       "<div>\n",
       "<style scoped>\n",
       "    .dataframe tbody tr th:only-of-type {\n",
       "        vertical-align: middle;\n",
       "    }\n",
       "\n",
       "    .dataframe tbody tr th {\n",
       "        vertical-align: top;\n",
       "    }\n",
       "\n",
       "    .dataframe thead th {\n",
       "        text-align: right;\n",
       "    }\n",
       "</style>\n",
       "<table border=\"1\" class=\"dataframe\">\n",
       "  <thead>\n",
       "    <tr style=\"text-align: right;\">\n",
       "      <th></th>\n",
       "      <th>pickup_community_area</th>\n",
       "      <th>trip_start_timestamp</th>\n",
       "      <th>trip_end_timestamp</th>\n",
       "      <th>trip_number</th>\n",
       "    </tr>\n",
       "  </thead>\n",
       "  <tbody>\n",
       "    <tr>\n",
       "      <th>0</th>\n",
       "      <td>9.0</td>\n",
       "      <td>2013-10-03 14:00:00+00:00</td>\n",
       "      <td>2013-10-03 14:15:00+00:00</td>\n",
       "      <td>1</td>\n",
       "    </tr>\n",
       "    <tr>\n",
       "      <th>1</th>\n",
       "      <td>14.0</td>\n",
       "      <td>2013-10-03 00:00:00+00:00</td>\n",
       "      <td>2013-10-03 00:15:00+00:00</td>\n",
       "      <td>1</td>\n",
       "    </tr>\n",
       "    <tr>\n",
       "      <th>2</th>\n",
       "      <td>14.0</td>\n",
       "      <td>2013-10-03 00:15:00+00:00</td>\n",
       "      <td>2013-10-03 00:30:00+00:00</td>\n",
       "      <td>2</td>\n",
       "    </tr>\n",
       "    <tr>\n",
       "      <th>3</th>\n",
       "      <td>14.0</td>\n",
       "      <td>2013-10-03 00:15:00+00:00</td>\n",
       "      <td>2013-10-03 00:15:00+00:00</td>\n",
       "      <td>2</td>\n",
       "    </tr>\n",
       "    <tr>\n",
       "      <th>4</th>\n",
       "      <td>14.0</td>\n",
       "      <td>2013-10-03 00:30:00+00:00</td>\n",
       "      <td>2013-10-03 00:30:00+00:00</td>\n",
       "      <td>4</td>\n",
       "    </tr>\n",
       "  </tbody>\n",
       "</table>\n",
       "</div>"
      ],
      "text/plain": [
       "   pickup_community_area      trip_start_timestamp        trip_end_timestamp  \\\n",
       "0                    9.0 2013-10-03 14:00:00+00:00 2013-10-03 14:15:00+00:00   \n",
       "1                   14.0 2013-10-03 00:00:00+00:00 2013-10-03 00:15:00+00:00   \n",
       "2                   14.0 2013-10-03 00:15:00+00:00 2013-10-03 00:30:00+00:00   \n",
       "3                   14.0 2013-10-03 00:15:00+00:00 2013-10-03 00:15:00+00:00   \n",
       "4                   14.0 2013-10-03 00:30:00+00:00 2013-10-03 00:30:00+00:00   \n",
       "\n",
       "   trip_number  \n",
       "0            1  \n",
       "1            1  \n",
       "2            2  \n",
       "3            2  \n",
       "4            4  "
      ]
     },
     "metadata": {},
     "output_type": "display_data"
    },
    {
     "data": {
      "application/javascript": [
       "parent.postMessage({\"jupyterEvent\": \"custom.exercise_interaction\", \"data\": {\"outcomeType\": 1, \"valueTowardsCompletion\": 0.3333333333333333, \"interactionType\": 1, \"questionType\": 2, \"questionId\": \"2_CommunityArea\", \"learnToolsVersion\": \"0.3.4\", \"failureMessage\": \"\", \"exceptionClass\": \"\", \"trace\": \"\"}}, \"*\")"
      ],
      "text/plain": [
       "<IPython.core.display.Javascript object>"
      ]
     },
     "metadata": {},
     "output_type": "display_data"
    },
    {
     "data": {
      "text/markdown": [
       "<span style=\"color:#33cc33\">Correct</span>"
      ],
      "text/plain": [
       "Correct"
      ]
     },
     "metadata": {},
     "output_type": "display_data"
    }
   ],
   "source": [
    "# Amend the query below\n",
    "trip_number_query = \"\"\"\n",
    "                 SELECT pickup_community_area,\n",
    "                        trip_start_timestamp,\n",
    "                        trip_end_timestamp,\n",
    "                        RANK()\n",
    "                            OVER (\n",
    "                                  PARTITION BY pickup_community_area\n",
    "                                  ORDER BY trip_start_timestamp\n",
    "                                 ) AS trip_number\n",
    "                    FROM `bigquery-public-data.chicago_taxi_trips.taxi_trips`\n",
    "                    WHERE DATE(trip_start_timestamp) = '2013-10-03'\n",
    "                    \"\"\"\n",
    "\n",
    "# Check your answer\n",
    "q_2.check()"
   ]
  },
  {
   "cell_type": "markdown",
   "id": "600f238d",
   "metadata": {
    "papermill": {
     "duration": 0.005597,
     "end_time": "2023-07-04T01:15:21.584748",
     "exception": false,
     "start_time": "2023-07-04T01:15:21.579151",
     "status": "completed"
    },
    "tags": []
   },
   "source": [
    "### 3) How much time elapses between trips?\n",
    "\n",
    "The (partial) query in the code cell below shows, for each trip in the selected time frame, the corresponding `taxi_id`, `trip_start_timestamp`, and `trip_end_timestamp`. \n",
    "\n",
    "Your task in this exercise is to edit the query to include an additional `prev_break` column that shows the length of the break (in minutes) that the driver had before each trip started (this corresponds to the time between `trip_start_timestamp` of the current trip and `trip_end_timestamp` of the previous trip).  Partition the calculation by `taxi_id`, and order the results within each partition by `trip_start_timestamp`.\n",
    "\n",
    "Some sample results are shown below, where all rows correspond to the same driver (or `taxi_id`).  Take the time now to make sure that the values in the `prev_break` column make sense to you!\n",
    "\n",
    "![first_commands](https://storage.googleapis.com/kaggle-media/learn/images/qjvQzg8.png)\n",
    "\n",
    "Note that the first trip of the day for each driver should have a value of **NaN** (not a number) in the `prev_break` column."
   ]
  },
  {
   "cell_type": "markdown",
   "id": "84b96960",
   "metadata": {
    "papermill": {
     "duration": 0.004545,
     "end_time": "2023-07-04T01:15:21.594212",
     "exception": false,
     "start_time": "2023-07-04T01:15:21.589667",
     "status": "completed"
    },
    "tags": []
   },
   "source": [
    "# Keep going\n",
    "\n",
    "Move on to learn how to query **[nested and repeated data](https://www.kaggle.com/alexisbcook/nested-and-repeated-data)**."
   ]
  },
  {
   "cell_type": "code",
   "execution_count": 5,
   "id": "d3f3cce1",
   "metadata": {
    "execution": {
     "iopub.execute_input": "2023-07-04T01:15:21.606774Z",
     "iopub.status.busy": "2023-07-04T01:15:21.606411Z",
     "iopub.status.idle": "2023-07-04T01:15:28.809890Z",
     "shell.execute_reply": "2023-07-04T01:15:28.808666Z"
    },
    "papermill": {
     "duration": 7.213638,
     "end_time": "2023-07-04T01:15:28.812654",
     "exception": false,
     "start_time": "2023-07-04T01:15:21.599016",
     "status": "completed"
    },
    "tags": []
   },
   "outputs": [
    {
     "data": {
      "text/html": [
       "<div>\n",
       "<style scoped>\n",
       "    .dataframe tbody tr th:only-of-type {\n",
       "        vertical-align: middle;\n",
       "    }\n",
       "\n",
       "    .dataframe tbody tr th {\n",
       "        vertical-align: top;\n",
       "    }\n",
       "\n",
       "    .dataframe thead th {\n",
       "        text-align: right;\n",
       "    }\n",
       "</style>\n",
       "<table border=\"1\" class=\"dataframe\">\n",
       "  <thead>\n",
       "    <tr style=\"text-align: right;\">\n",
       "      <th></th>\n",
       "      <th>taxi_id</th>\n",
       "      <th>trip_start_timestamp</th>\n",
       "      <th>trip_end_timestamp</th>\n",
       "      <th>prev_break</th>\n",
       "    </tr>\n",
       "  </thead>\n",
       "  <tbody>\n",
       "    <tr>\n",
       "      <th>0</th>\n",
       "      <td>098c5be0c347d832b5903f8fdf5901bea4c8ba99feb5bc...</td>\n",
       "      <td>2013-10-03 20:15:00+00:00</td>\n",
       "      <td>2013-10-03 20:00:00+00:00</td>\n",
       "      <td>510.0</td>\n",
       "    </tr>\n",
       "    <tr>\n",
       "      <th>1</th>\n",
       "      <td>0d85210d7aaf5c6b3f6dc713e1da5b4aee0c89166c4d85...</td>\n",
       "      <td>2013-10-03 15:00:00+00:00</td>\n",
       "      <td>2013-10-03 16:00:00+00:00</td>\n",
       "      <td>225.0</td>\n",
       "    </tr>\n",
       "    <tr>\n",
       "      <th>2</th>\n",
       "      <td>16c0058a9dec4071ca1a3eedf10a184abdf86cde941d12...</td>\n",
       "      <td>2013-10-03 07:00:00+00:00</td>\n",
       "      <td>2013-10-03 07:15:00+00:00</td>\n",
       "      <td>255.0</td>\n",
       "    </tr>\n",
       "    <tr>\n",
       "      <th>3</th>\n",
       "      <td>16c0058a9dec4071ca1a3eedf10a184abdf86cde941d12...</td>\n",
       "      <td>2013-10-03 22:15:00+00:00</td>\n",
       "      <td>2013-10-03 22:15:00+00:00</td>\n",
       "      <td>435.0</td>\n",
       "    </tr>\n",
       "    <tr>\n",
       "      <th>4</th>\n",
       "      <td>191fd0741ff752d181e7040f03ca6025d80a0f04183be4...</td>\n",
       "      <td>2013-10-03 12:30:00+00:00</td>\n",
       "      <td>2013-10-03 12:30:00+00:00</td>\n",
       "      <td>255.0</td>\n",
       "    </tr>\n",
       "  </tbody>\n",
       "</table>\n",
       "</div>"
      ],
      "text/plain": [
       "                                             taxi_id  \\\n",
       "0  098c5be0c347d832b5903f8fdf5901bea4c8ba99feb5bc...   \n",
       "1  0d85210d7aaf5c6b3f6dc713e1da5b4aee0c89166c4d85...   \n",
       "2  16c0058a9dec4071ca1a3eedf10a184abdf86cde941d12...   \n",
       "3  16c0058a9dec4071ca1a3eedf10a184abdf86cde941d12...   \n",
       "4  191fd0741ff752d181e7040f03ca6025d80a0f04183be4...   \n",
       "\n",
       "       trip_start_timestamp        trip_end_timestamp  prev_break  \n",
       "0 2013-10-03 20:15:00+00:00 2013-10-03 20:00:00+00:00       510.0  \n",
       "1 2013-10-03 15:00:00+00:00 2013-10-03 16:00:00+00:00       225.0  \n",
       "2 2013-10-03 07:00:00+00:00 2013-10-03 07:15:00+00:00       255.0  \n",
       "3 2013-10-03 22:15:00+00:00 2013-10-03 22:15:00+00:00       435.0  \n",
       "4 2013-10-03 12:30:00+00:00 2013-10-03 12:30:00+00:00       255.0  "
      ]
     },
     "metadata": {},
     "output_type": "display_data"
    },
    {
     "data": {
      "application/javascript": [
       "parent.postMessage({\"jupyterEvent\": \"custom.exercise_interaction\", \"data\": {\"outcomeType\": 1, \"valueTowardsCompletion\": 0.3333333333333333, \"interactionType\": 1, \"questionType\": 2, \"questionId\": \"3_BreakTime\", \"learnToolsVersion\": \"0.3.4\", \"failureMessage\": \"\", \"exceptionClass\": \"\", \"trace\": \"\"}}, \"*\")"
      ],
      "text/plain": [
       "<IPython.core.display.Javascript object>"
      ]
     },
     "metadata": {},
     "output_type": "display_data"
    },
    {
     "data": {
      "text/markdown": [
       "<span style=\"color:#33cc33\">Correct</span>"
      ],
      "text/plain": [
       "Correct"
      ]
     },
     "metadata": {},
     "output_type": "display_data"
    }
   ],
   "source": [
    "# Fill in the blanks below\n",
    "break_time_query = \"\"\"\n",
    "                   SELECT taxi_id,\n",
    "                       trip_start_timestamp,\n",
    "                       trip_end_timestamp,\n",
    "                       TIMESTAMP_DIFF(\n",
    "                           trip_start_timestamp, \n",
    "                           LAG(trip_end_timestamp, 1) OVER (PARTITION BY taxi_id ORDER BY trip_start_timestamp), \n",
    "                           MINUTE) as prev_break\n",
    "                   FROM `bigquery-public-data.chicago_taxi_trips.taxi_trips`\n",
    "                   WHERE DATE(trip_start_timestamp) = '2013-10-03' \n",
    "                   \"\"\"\n",
    "\n",
    "# Check your answer\n",
    "q_3.check()"
   ]
  },
  {
   "cell_type": "markdown",
   "id": "3cd90709",
   "metadata": {
    "papermill": {
     "duration": 0.005005,
     "end_time": "2023-07-04T01:15:28.823289",
     "exception": false,
     "start_time": "2023-07-04T01:15:28.818284",
     "status": "completed"
    },
    "tags": []
   },
   "source": []
  }
 ],
 "metadata": {
  "kernelspec": {
   "display_name": "Python 3",
   "language": "python",
   "name": "python3"
  },
  "language_info": {
   "codemirror_mode": {
    "name": "ipython",
    "version": 3
   },
   "file_extension": ".py",
   "mimetype": "text/x-python",
   "name": "python",
   "nbconvert_exporter": "python",
   "pygments_lexer": "ipython3",
   "version": "3.10.10"
  },
  "papermill": {
   "default_parameters": {},
   "duration": 55.309606,
   "end_time": "2023-07-04T01:15:29.650762",
   "environment_variables": {},
   "exception": null,
   "input_path": "__notebook__.ipynb",
   "output_path": "__notebook__.ipynb",
   "parameters": {},
   "start_time": "2023-07-04T01:14:34.341156",
   "version": "2.4.0"
  }
 },
 "nbformat": 4,
 "nbformat_minor": 5
}
